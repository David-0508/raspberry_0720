{
 "cells": [
  {
   "cell_type": "code",
   "execution_count": 7,
   "metadata": {},
   "outputs": [
    {
     "name": "stdout",
     "output_type": "stream",
     "text": [
      "/home/david0508/gitHub/raspberry_0720/2024_07_27/data\n",
      "資料已建立\n",
      "沒有log檔\n"
     ]
    }
   ],
   "source": [
    "import os.path\n",
    "current_path=os.path.abspath(__name__) #取得目前檔案路徑\n",
    "directory_name=os.path.dirname(current_path) #取得目前資料夾路行\n",
    "data_path=os.path.join(directory_name,\"data\") #目前資料夾路徑加上data目錄\n",
    "print(data_path)\n",
    "if not os.path.isdir(data_path):\n",
    "    print(\"沒有data的目錄,需手動建立目錄\")\n",
    "    os.mkdir(data_path)\n",
    "else:\n",
    "    print(\"資料已建立\")\n",
    "\n",
    "log_path=os.path.join(data_path,\"iot.log\")\n",
    "if not os.path.isfile(log_path):\n",
    "    print(\"沒有log檔\")\n",
    "else:\n",
    "    print(\"有log檔\")\n",
    "    "
   ]
  },
  {
   "cell_type": "code",
   "execution_count": 9,
   "metadata": {},
   "outputs": [
    {
     "name": "stdout",
     "output_type": "stream",
     "text": [
      "/home/david0508/gitHub/raspberry_0720/2024_07_27/data\n",
      "資料已建立\n"
     ]
    }
   ],
   "source": [
    "import os.path\n",
    "current_path=os.path.abspath(__name__) #取得目前檔案路徑\n",
    "directory_name=os.path.dirname(current_path) #取得目前資料夾路行\n",
    "data_path=os.path.join(directory_name,\"data\") #目前資料夾路徑加上data目錄\n",
    "print(data_path)\n",
    "if not os.path.isdir(data_path):\n",
    "    print(\"沒有data的目錄,需手動建立目錄\")\n",
    "    os.mkdir(data_path)\n",
    "else:\n",
    "    print(\"資料已建立\")\n",
    "\n",
    "log_path=os.path.join(data_path,\"iot.log\")\n",
    "if not os.path.isfile(log_path):\n",
    "    print(\"沒有iot.log檔,建立新檔\")\n",
    "    file=open(log_path,mode=\"w\",encoding=\"utf-8\",newline=\"\")   #(改成OPEN)\n",
    "    file.write(\"時間,濕度,溫度\\n\")\n",
    "    file.close()\n",
    "else:\n",
    "    print(\"已經有log檔\")\n",
    "\n",
    "\n"
   ]
  },
  {
   "cell_type": "code",
   "execution_count": 12,
   "metadata": {},
   "outputs": [
    {
     "name": "stdout",
     "output_type": "stream",
     "text": [
      "/home/david0508/gitHub/raspberry_0720/2024_07_27/data\n",
      "資料已建立\n",
      "沒有iot.log檔,建立新檔\n"
     ]
    }
   ],
   "source": [
    "import os.path\n",
    "current_path=os.path.abspath(__name__) #取得目前檔案路徑\n",
    "directory_name=os.path.dirname(current_path) #取得目前資料夾路行\n",
    "data_path=os.path.join(directory_name,\"data\") #目前資料夾路徑加上data目錄\n",
    "print(data_path)\n",
    "if not os.path.isdir(data_path):\n",
    "    print(\"沒有data的目錄,需手動建立目錄\")\n",
    "    os.mkdir(data_path)\n",
    "else:\n",
    "    print(\"資料已建立\")\n",
    "\n",
    "log_path=os.path.join(data_path,\"iot.log\")\n",
    "if not os.path.isfile(log_path):\n",
    "    print(\"沒有iot.log檔,建立新檔\")\n",
    "    with open(log_path,mode=\"w\",encoding=\"utf-8\",newline=\"\") as file: #(改成with as寫法)\n",
    "        file.write(\"時間,濕度,溫度\\n\")\n",
    "else:\n",
    "    print(\"已經有log檔\")"
   ]
  },
  {
   "cell_type": "code",
   "execution_count": 16,
   "metadata": {},
   "outputs": [],
   "source": [
    "with open(log_path,mode=\"a\",encoding=\"utf-8\",newline=\"\") as file:\n",
    "    file.write(\"2024-07-27 15:35:50,59.5,28.25\\n\")"
   ]
  },
  {
   "cell_type": "code",
   "execution_count": 23,
   "metadata": {},
   "outputs": [
    {
     "name": "stdout",
     "output_type": "stream",
     "text": [
      "2024\n",
      "7\n",
      "27\n",
      "15\n",
      "51\n",
      "41\n"
     ]
    }
   ],
   "source": [
    "from datetime import datetime\n",
    "\n",
    "now=datetime.now()\n",
    "print(now.year)\n",
    "print(now.month)\n",
    "print(now.day)\n",
    "print(now.hour)\n",
    "print(now.minute)\n",
    "print(now.second)\n"
   ]
  },
  {
   "cell_type": "code",
   "execution_count": 29,
   "metadata": {},
   "outputs": [],
   "source": [
    "from datetime import datetime\n",
    "now=datetime.now()\n",
    "now_str=now.strftime(\"%Y-%m-%d %H:%M:%S\")\n",
    "\n",
    "with open(log_path,mode=\"a\",encoding=\"utf-8\",newline=\"\") as file:\n",
    "    file.write(now_str + \",59.5,28.25\\n\")\n",
    "             \n"
   ]
  },
  {
   "cell_type": "code",
   "execution_count": 32,
   "metadata": {},
   "outputs": [],
   "source": [
    "from datetime import datetime\n",
    "import random\n",
    "now=datetime.now()\n",
    "now_str=now.strftime(\"%Y-%m-%d %H:%M:%S\")\n",
    "humidity=str(random.randint(330,820)/10) #改寫\n",
    "celsius=str(random.randint(50,400)/10)  #改寫2\n",
    "with open(log_path,mode=\"a\",encoding=\"utf-8\",newline=\"\") as file:\n",
    "    file.write(now_str +\",\"+humidity+\",\"+celsius+\"\\n\")"
   ]
  },
  {
   "cell_type": "code",
   "execution_count": null,
   "metadata": {},
   "outputs": [],
   "source": [
    "import random\n",
    "humidity=str(random.randint(330,820)/10)\n",
    "celsius=str(random.randint(50,400)/10)"
   ]
  }
 ],
 "metadata": {
  "kernelspec": {
   "display_name": "venv1",
   "language": "python",
   "name": "python3"
  },
  "language_info": {
   "codemirror_mode": {
    "name": "ipython",
    "version": 3
   },
   "file_extension": ".py",
   "mimetype": "text/x-python",
   "name": "python",
   "nbconvert_exporter": "python",
   "pygments_lexer": "ipython3",
   "version": "3.11.2"
  }
 },
 "nbformat": 4,
 "nbformat_minor": 2
}
