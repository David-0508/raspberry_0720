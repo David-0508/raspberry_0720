{
 "cells": [
  {
   "cell_type": "code",
   "execution_count": 7,
   "metadata": {},
   "outputs": [
    {
     "name": "stdout",
     "output_type": "stream",
     "text": [
      "/home/david0508/gitHub/raspberry_0720/2024_07_27/data\n",
      "資料已建立\n",
      "沒有log檔\n"
     ]
    }
   ],
   "source": [
    "import os.path\n",
    "current_path=os.path.abspath(__name__) #取得目前檔案路徑\n",
    "directory_name=os.path.dirname(current_path) #取得目前資料夾路行\n",
    "data_path=os.path.join(directory_name,\"data\") #目前資料夾路徑加上data目錄\n",
    "print(data_path)\n",
    "if not os.path.isdir(data_path):\n",
    "    print(\"沒有data的目錄,需手動建立目錄\")\n",
    "    os.mkdir(data_path)\n",
    "else:\n",
    "    print(\"資料已建立\")\n",
    "\n",
    "log_path=os.path.join(data_path,\"iot.log\")\n",
    "if not os.path.isfile(log_path):\n",
    "    print(\"沒有log檔\")\n",
    "else:\n",
    "    print(\"有log檔\")\n",
    "    "
   ]
  },
  {
   "cell_type": "code",
   "execution_count": 9,
   "metadata": {},
   "outputs": [
    {
     "name": "stdout",
     "output_type": "stream",
     "text": [
      "/home/david0508/gitHub/raspberry_0720/2024_07_27/data\n",
      "資料已建立\n"
     ]
    }
   ],
   "source": [
    "import os.path\n",
    "current_path=os.path.abspath(__name__) #取得目前檔案路徑\n",
    "directory_name=os.path.dirname(current_path) #取得目前資料夾路行\n",
    "data_path=os.path.join(directory_name,\"data\") #目前資料夾路徑加上data目錄\n",
    "print(data_path)\n",
    "if not os.path.isdir(data_path):\n",
    "    print(\"沒有data的目錄,需手動建立目錄\")\n",
    "    os.mkdir(data_path)\n",
    "else:\n",
    "    print(\"資料已建立\")\n",
    "\n",
    "log_path=os.path.join(data_path,\"iot.log\")\n",
    "if not os.path.isfile(log_path):\n",
    "    print(\"沒有iot.log檔,建立新檔\")\n",
    "    file=open(log_path,mode=\"w\",encoding=\"utf-8\",newline=\"\")   #(改成OPEN)\n",
    "    file.write(\"時間,濕度,溫度\\n\")\n",
    "    file.close()\n",
    "else:\n",
    "    print(\"已經有log檔\")\n",
    "\n",
    "\n"
   ]
  }
 ],
 "metadata": {
  "kernelspec": {
   "display_name": "venv1",
   "language": "python",
   "name": "python3"
  },
  "language_info": {
   "codemirror_mode": {
    "name": "ipython",
    "version": 3
   },
   "file_extension": ".py",
   "mimetype": "text/x-python",
   "name": "python",
   "nbconvert_exporter": "python",
   "pygments_lexer": "ipython3",
   "version": "3.11.2"
  }
 },
 "nbformat": 4,
 "nbformat_minor": 2
}
